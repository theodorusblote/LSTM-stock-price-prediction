{
 "cells": [
  {
   "cell_type": "code",
   "id": "initial_id",
   "metadata": {
    "collapsed": true,
    "ExecuteTime": {
     "end_time": "2024-11-10T04:57:45.515168Z",
     "start_time": "2024-11-10T04:57:45.089266Z"
    }
   },
   "source": [
    "from dotenv import load_dotenv\n",
    "import os\n",
    "from sqlalchemy import create_engine\n",
    "import pandas as pd"
   ],
   "outputs": [],
   "execution_count": 2
  },
  {
   "metadata": {
    "ExecuteTime": {
     "end_time": "2024-11-10T04:57:45.518730Z",
     "start_time": "2024-11-10T04:57:45.516071Z"
    }
   },
   "cell_type": "code",
   "source": [
    "# Load environment variables\n",
    "load_dotenv()\n",
    "\n",
    "DB_USERNAME = os.getenv('DB_USERNAME')\n",
    "DB_PASSWORD = os.getenv('DB_PASSWORD')\n",
    "DB_HOST = os.getenv('DB_HOST')\n",
    "DB_PORT = os.getenv('DB_PORT')\n",
    "DB_NAME = os.getenv('DB_NAME')"
   ],
   "id": "2ae9c6795001e4a1",
   "outputs": [],
   "execution_count": 3
  },
  {
   "metadata": {
    "ExecuteTime": {
     "end_time": "2024-11-10T04:57:45.552383Z",
     "start_time": "2024-11-10T04:57:45.519256Z"
    }
   },
   "cell_type": "code",
   "source": [
    "# Create SQL engine\n",
    "engine = create_engine(f'postgresql+psycopg2://{DB_USERNAME}:{DB_PASSWORD}@{DB_HOST}:{DB_PORT}/{DB_NAME}')"
   ],
   "id": "d1709d001c51491a",
   "outputs": [],
   "execution_count": 4
  },
  {
   "metadata": {
    "ExecuteTime": {
     "end_time": "2024-11-10T04:57:45.608871Z",
     "start_time": "2024-11-10T04:57:45.553455Z"
    }
   },
   "cell_type": "code",
   "source": [
    "# Define query\n",
    "query = 'SELECT * FROM stock_data;'\n",
    "\n",
    "# Load data from SQL database\n",
    "df = pd.read_sql(query, engine, index_col='Date')\n",
    "\n",
    "# Visualise first few rows\n",
    "df.head()"
   ],
   "id": "2930426739ea428",
   "outputs": [
    {
     "data": {
      "text/plain": [
       "                                 Open        High         Low       Close  \\\n",
       "Date                                                                        \n",
       "2020-08-26 04:00:00+00:00  123.173239  123.966377  122.101888  123.507576   \n",
       "2020-08-27 04:00:00+00:00  124.112812  124.447149  120.881681  122.031128   \n",
       "2020-08-28 04:00:00+00:00  123.009731  123.429484  121.608928  121.833450   \n",
       "2020-08-31 04:00:00+00:00  124.539894  127.878397  122.997542  125.965096   \n",
       "2020-09-01 04:00:00+00:00  129.596429  131.587826  127.419572  130.982590   \n",
       "\n",
       "                              Volume  Dividends  Stock Splits   Close Lag  \\\n",
       "Date                                                                        \n",
       "2020-08-26 04:00:00+00:00  163022400        0.0           0.0  121.850540   \n",
       "2020-08-27 04:00:00+00:00  155552400        0.0           0.0  123.507576   \n",
       "2020-08-28 04:00:00+00:00  187630000        0.0           0.0  122.031128   \n",
       "2020-08-31 04:00:00+00:00  225702700        0.0           4.0  121.833450   \n",
       "2020-09-01 04:00:00+00:00  151948100        0.0           0.0  125.965096   \n",
       "\n",
       "                            Volume Lag  50-Day SMA  200-Day SMA        RSI  \\\n",
       "Date                                                                         \n",
       "2020-08-26 04:00:00+00:00  211495600.0   99.112378    77.831353  79.615764   \n",
       "2020-08-27 04:00:00+00:00  163022400.0   99.840029    78.123761  75.127363   \n",
       "2020-08-28 04:00:00+00:00  155552400.0  100.563045    78.415471  74.521605   \n",
       "2020-08-31 04:00:00+00:00  187630000.0  101.378487    78.724798  78.435356   \n",
       "2020-09-01 04:00:00+00:00  225702700.0  102.249699    79.061430  82.042859   \n",
       "\n",
       "                               MACD       ATR         OBV  \n",
       "Date                                                       \n",
       "2020-08-26 04:00:00+00:00  6.898723  3.081114  2147447600  \n",
       "2020-08-27 04:00:00+00:00  6.854619  3.115711  1991895200  \n",
       "2020-08-28 04:00:00+00:00  6.726180  3.023200  1804265200  \n",
       "2020-08-31 04:00:00+00:00  6.878490  3.239039  2029967900  \n",
       "2020-09-01 04:00:00+00:00  7.319690  3.409303  2181916000  "
      ],
      "text/html": [
       "<div>\n",
       "<style scoped>\n",
       "    .dataframe tbody tr th:only-of-type {\n",
       "        vertical-align: middle;\n",
       "    }\n",
       "\n",
       "    .dataframe tbody tr th {\n",
       "        vertical-align: top;\n",
       "    }\n",
       "\n",
       "    .dataframe thead th {\n",
       "        text-align: right;\n",
       "    }\n",
       "</style>\n",
       "<table border=\"1\" class=\"dataframe\">\n",
       "  <thead>\n",
       "    <tr style=\"text-align: right;\">\n",
       "      <th></th>\n",
       "      <th>Open</th>\n",
       "      <th>High</th>\n",
       "      <th>Low</th>\n",
       "      <th>Close</th>\n",
       "      <th>Volume</th>\n",
       "      <th>Dividends</th>\n",
       "      <th>Stock Splits</th>\n",
       "      <th>Close Lag</th>\n",
       "      <th>Volume Lag</th>\n",
       "      <th>50-Day SMA</th>\n",
       "      <th>200-Day SMA</th>\n",
       "      <th>RSI</th>\n",
       "      <th>MACD</th>\n",
       "      <th>ATR</th>\n",
       "      <th>OBV</th>\n",
       "    </tr>\n",
       "    <tr>\n",
       "      <th>Date</th>\n",
       "      <th></th>\n",
       "      <th></th>\n",
       "      <th></th>\n",
       "      <th></th>\n",
       "      <th></th>\n",
       "      <th></th>\n",
       "      <th></th>\n",
       "      <th></th>\n",
       "      <th></th>\n",
       "      <th></th>\n",
       "      <th></th>\n",
       "      <th></th>\n",
       "      <th></th>\n",
       "      <th></th>\n",
       "      <th></th>\n",
       "    </tr>\n",
       "  </thead>\n",
       "  <tbody>\n",
       "    <tr>\n",
       "      <th>2020-08-26 04:00:00+00:00</th>\n",
       "      <td>123.173239</td>\n",
       "      <td>123.966377</td>\n",
       "      <td>122.101888</td>\n",
       "      <td>123.507576</td>\n",
       "      <td>163022400</td>\n",
       "      <td>0.0</td>\n",
       "      <td>0.0</td>\n",
       "      <td>121.850540</td>\n",
       "      <td>211495600.0</td>\n",
       "      <td>99.112378</td>\n",
       "      <td>77.831353</td>\n",
       "      <td>79.615764</td>\n",
       "      <td>6.898723</td>\n",
       "      <td>3.081114</td>\n",
       "      <td>2147447600</td>\n",
       "    </tr>\n",
       "    <tr>\n",
       "      <th>2020-08-27 04:00:00+00:00</th>\n",
       "      <td>124.112812</td>\n",
       "      <td>124.447149</td>\n",
       "      <td>120.881681</td>\n",
       "      <td>122.031128</td>\n",
       "      <td>155552400</td>\n",
       "      <td>0.0</td>\n",
       "      <td>0.0</td>\n",
       "      <td>123.507576</td>\n",
       "      <td>163022400.0</td>\n",
       "      <td>99.840029</td>\n",
       "      <td>78.123761</td>\n",
       "      <td>75.127363</td>\n",
       "      <td>6.854619</td>\n",
       "      <td>3.115711</td>\n",
       "      <td>1991895200</td>\n",
       "    </tr>\n",
       "    <tr>\n",
       "      <th>2020-08-28 04:00:00+00:00</th>\n",
       "      <td>123.009731</td>\n",
       "      <td>123.429484</td>\n",
       "      <td>121.608928</td>\n",
       "      <td>121.833450</td>\n",
       "      <td>187630000</td>\n",
       "      <td>0.0</td>\n",
       "      <td>0.0</td>\n",
       "      <td>122.031128</td>\n",
       "      <td>155552400.0</td>\n",
       "      <td>100.563045</td>\n",
       "      <td>78.415471</td>\n",
       "      <td>74.521605</td>\n",
       "      <td>6.726180</td>\n",
       "      <td>3.023200</td>\n",
       "      <td>1804265200</td>\n",
       "    </tr>\n",
       "    <tr>\n",
       "      <th>2020-08-31 04:00:00+00:00</th>\n",
       "      <td>124.539894</td>\n",
       "      <td>127.878397</td>\n",
       "      <td>122.997542</td>\n",
       "      <td>125.965096</td>\n",
       "      <td>225702700</td>\n",
       "      <td>0.0</td>\n",
       "      <td>4.0</td>\n",
       "      <td>121.833450</td>\n",
       "      <td>187630000.0</td>\n",
       "      <td>101.378487</td>\n",
       "      <td>78.724798</td>\n",
       "      <td>78.435356</td>\n",
       "      <td>6.878490</td>\n",
       "      <td>3.239039</td>\n",
       "      <td>2029967900</td>\n",
       "    </tr>\n",
       "    <tr>\n",
       "      <th>2020-09-01 04:00:00+00:00</th>\n",
       "      <td>129.596429</td>\n",
       "      <td>131.587826</td>\n",
       "      <td>127.419572</td>\n",
       "      <td>130.982590</td>\n",
       "      <td>151948100</td>\n",
       "      <td>0.0</td>\n",
       "      <td>0.0</td>\n",
       "      <td>125.965096</td>\n",
       "      <td>225702700.0</td>\n",
       "      <td>102.249699</td>\n",
       "      <td>79.061430</td>\n",
       "      <td>82.042859</td>\n",
       "      <td>7.319690</td>\n",
       "      <td>3.409303</td>\n",
       "      <td>2181916000</td>\n",
       "    </tr>\n",
       "  </tbody>\n",
       "</table>\n",
       "</div>"
      ]
     },
     "execution_count": 5,
     "metadata": {},
     "output_type": "execute_result"
    }
   ],
   "execution_count": 5
  },
  {
   "metadata": {
    "ExecuteTime": {
     "end_time": "2024-11-10T04:59:15.310060Z",
     "start_time": "2024-11-10T04:59:15.297247Z"
    }
   },
   "cell_type": "code",
   "source": [
    "# Align 'Close' price with features\n",
    "df['Close'] = df['Close'].shift(-1)\n",
    "\n",
    "# Drop NaN values\n",
    "df.dropna(inplace=True)"
   ],
   "id": "12736b513bde0077",
   "outputs": [],
   "execution_count": 8
  },
  {
   "metadata": {},
   "cell_type": "code",
   "outputs": [],
   "execution_count": null,
   "source": "",
   "id": "e09bbbd3eb79c301"
  }
 ],
 "metadata": {
  "kernelspec": {
   "display_name": "Python 3",
   "language": "python",
   "name": "python3"
  },
  "language_info": {
   "codemirror_mode": {
    "name": "ipython",
    "version": 2
   },
   "file_extension": ".py",
   "mimetype": "text/x-python",
   "name": "python",
   "nbconvert_exporter": "python",
   "pygments_lexer": "ipython2",
   "version": "2.7.6"
  }
 },
 "nbformat": 4,
 "nbformat_minor": 5
}
