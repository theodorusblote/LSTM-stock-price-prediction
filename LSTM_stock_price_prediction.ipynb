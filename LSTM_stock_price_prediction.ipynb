{
 "cells": [
  {
   "cell_type": "code",
   "id": "initial_id",
   "metadata": {
    "collapsed": true,
    "ExecuteTime": {
     "end_time": "2024-11-10T22:17:27.772833Z",
     "start_time": "2024-11-10T22:17:21.770936Z"
    }
   },
   "source": [
    "from dotenv import load_dotenv\n",
    "import os\n",
    "from sqlalchemy import create_engine\n",
    "import pandas as pd\n",
    "from sklearn.model_selection import train_test_split\n",
    "from sklearn.preprocessing import MinMaxScaler\n",
    "import numpy as np\n",
    "from tensorflow.keras.models import Sequential\n",
    "from tensorflow.keras.layers import Input, LSTM, Dropout, Dense\n",
    "from sklearn.metrics import mean_squared_error, root_mean_squared_error, mean_absolute_error, mean_absolute_percentage_error\n",
    "import matplotlib.pyplot as plt"
   ],
   "outputs": [],
   "execution_count": 1
  },
  {
   "metadata": {
    "ExecuteTime": {
     "end_time": "2024-11-10T22:17:27.776797Z",
     "start_time": "2024-11-10T22:17:27.773861Z"
    }
   },
   "cell_type": "code",
   "source": [
    "# Load environment variables\n",
    "load_dotenv()\n",
    "\n",
    "DB_USERNAME = os.getenv('DB_USERNAME')\n",
    "DB_PASSWORD = os.getenv('DB_PASSWORD')\n",
    "DB_HOST = os.getenv('DB_HOST')\n",
    "DB_PORT = os.getenv('DB_PORT')\n",
    "DB_NAME = os.getenv('DB_NAME')"
   ],
   "id": "b03bbbdc38166fa4",
   "outputs": [],
   "execution_count": 2
  },
  {
   "metadata": {
    "ExecuteTime": {
     "end_time": "2024-11-10T22:17:27.898326Z",
     "start_time": "2024-11-10T22:17:27.777419Z"
    }
   },
   "cell_type": "code",
   "source": [
    "# Create SQL engine\n",
    "engine = create_engine(f'postgresql+psycopg2://{DB_USERNAME}:{DB_PASSWORD}@{DB_HOST}:{DB_PORT}/{DB_NAME}')\n",
    "\n",
    "# Define query\n",
    "query = 'SELECT * FROM stock_data;'\n",
    "\n",
    "# Load data from SQL\n",
    "df = pd.read_sql(query, engine, index_col='Date')\n",
    "\n",
    "# Visualise first few rows\n",
    "df.head()"
   ],
   "id": "6fc8c5c5fc946a2",
   "outputs": [
    {
     "data": {
      "text/plain": [
       "                                 Open        High         Low       Close  \\\n",
       "Date                                                                        \n",
       "2020-08-26 04:00:00+00:00  123.173239  123.966377  122.101888  123.507576   \n",
       "2020-08-27 04:00:00+00:00  124.112812  124.447149  120.881681  122.031128   \n",
       "2020-08-28 04:00:00+00:00  123.009731  123.429484  121.608928  121.833450   \n",
       "2020-08-31 04:00:00+00:00  124.539894  127.878397  122.997542  125.965096   \n",
       "2020-09-01 04:00:00+00:00  129.596429  131.587826  127.419572  130.982590   \n",
       "\n",
       "                              Volume  Dividends  Stock Splits   Close Lag  \\\n",
       "Date                                                                        \n",
       "2020-08-26 04:00:00+00:00  163022400        0.0           0.0  121.850540   \n",
       "2020-08-27 04:00:00+00:00  155552400        0.0           0.0  123.507576   \n",
       "2020-08-28 04:00:00+00:00  187630000        0.0           0.0  122.031128   \n",
       "2020-08-31 04:00:00+00:00  225702700        0.0           4.0  121.833450   \n",
       "2020-09-01 04:00:00+00:00  151948100        0.0           0.0  125.965096   \n",
       "\n",
       "                            Volume Lag  50-Day SMA  200-Day SMA        RSI  \\\n",
       "Date                                                                         \n",
       "2020-08-26 04:00:00+00:00  211495600.0   99.112378    77.831353  79.615764   \n",
       "2020-08-27 04:00:00+00:00  163022400.0   99.840029    78.123761  75.127363   \n",
       "2020-08-28 04:00:00+00:00  155552400.0  100.563045    78.415471  74.521605   \n",
       "2020-08-31 04:00:00+00:00  187630000.0  101.378487    78.724798  78.435356   \n",
       "2020-09-01 04:00:00+00:00  225702700.0  102.249699    79.061430  82.042859   \n",
       "\n",
       "                               MACD       ATR         OBV  \n",
       "Date                                                       \n",
       "2020-08-26 04:00:00+00:00  6.898723  3.081114  2147447600  \n",
       "2020-08-27 04:00:00+00:00  6.854619  3.115711  1991895200  \n",
       "2020-08-28 04:00:00+00:00  6.726180  3.023200  1804265200  \n",
       "2020-08-31 04:00:00+00:00  6.878490  3.239039  2029967900  \n",
       "2020-09-01 04:00:00+00:00  7.319690  3.409303  2181916000  "
      ],
      "text/html": [
       "<div>\n",
       "<style scoped>\n",
       "    .dataframe tbody tr th:only-of-type {\n",
       "        vertical-align: middle;\n",
       "    }\n",
       "\n",
       "    .dataframe tbody tr th {\n",
       "        vertical-align: top;\n",
       "    }\n",
       "\n",
       "    .dataframe thead th {\n",
       "        text-align: right;\n",
       "    }\n",
       "</style>\n",
       "<table border=\"1\" class=\"dataframe\">\n",
       "  <thead>\n",
       "    <tr style=\"text-align: right;\">\n",
       "      <th></th>\n",
       "      <th>Open</th>\n",
       "      <th>High</th>\n",
       "      <th>Low</th>\n",
       "      <th>Close</th>\n",
       "      <th>Volume</th>\n",
       "      <th>Dividends</th>\n",
       "      <th>Stock Splits</th>\n",
       "      <th>Close Lag</th>\n",
       "      <th>Volume Lag</th>\n",
       "      <th>50-Day SMA</th>\n",
       "      <th>200-Day SMA</th>\n",
       "      <th>RSI</th>\n",
       "      <th>MACD</th>\n",
       "      <th>ATR</th>\n",
       "      <th>OBV</th>\n",
       "    </tr>\n",
       "    <tr>\n",
       "      <th>Date</th>\n",
       "      <th></th>\n",
       "      <th></th>\n",
       "      <th></th>\n",
       "      <th></th>\n",
       "      <th></th>\n",
       "      <th></th>\n",
       "      <th></th>\n",
       "      <th></th>\n",
       "      <th></th>\n",
       "      <th></th>\n",
       "      <th></th>\n",
       "      <th></th>\n",
       "      <th></th>\n",
       "      <th></th>\n",
       "      <th></th>\n",
       "    </tr>\n",
       "  </thead>\n",
       "  <tbody>\n",
       "    <tr>\n",
       "      <th>2020-08-26 04:00:00+00:00</th>\n",
       "      <td>123.173239</td>\n",
       "      <td>123.966377</td>\n",
       "      <td>122.101888</td>\n",
       "      <td>123.507576</td>\n",
       "      <td>163022400</td>\n",
       "      <td>0.0</td>\n",
       "      <td>0.0</td>\n",
       "      <td>121.850540</td>\n",
       "      <td>211495600.0</td>\n",
       "      <td>99.112378</td>\n",
       "      <td>77.831353</td>\n",
       "      <td>79.615764</td>\n",
       "      <td>6.898723</td>\n",
       "      <td>3.081114</td>\n",
       "      <td>2147447600</td>\n",
       "    </tr>\n",
       "    <tr>\n",
       "      <th>2020-08-27 04:00:00+00:00</th>\n",
       "      <td>124.112812</td>\n",
       "      <td>124.447149</td>\n",
       "      <td>120.881681</td>\n",
       "      <td>122.031128</td>\n",
       "      <td>155552400</td>\n",
       "      <td>0.0</td>\n",
       "      <td>0.0</td>\n",
       "      <td>123.507576</td>\n",
       "      <td>163022400.0</td>\n",
       "      <td>99.840029</td>\n",
       "      <td>78.123761</td>\n",
       "      <td>75.127363</td>\n",
       "      <td>6.854619</td>\n",
       "      <td>3.115711</td>\n",
       "      <td>1991895200</td>\n",
       "    </tr>\n",
       "    <tr>\n",
       "      <th>2020-08-28 04:00:00+00:00</th>\n",
       "      <td>123.009731</td>\n",
       "      <td>123.429484</td>\n",
       "      <td>121.608928</td>\n",
       "      <td>121.833450</td>\n",
       "      <td>187630000</td>\n",
       "      <td>0.0</td>\n",
       "      <td>0.0</td>\n",
       "      <td>122.031128</td>\n",
       "      <td>155552400.0</td>\n",
       "      <td>100.563045</td>\n",
       "      <td>78.415471</td>\n",
       "      <td>74.521605</td>\n",
       "      <td>6.726180</td>\n",
       "      <td>3.023200</td>\n",
       "      <td>1804265200</td>\n",
       "    </tr>\n",
       "    <tr>\n",
       "      <th>2020-08-31 04:00:00+00:00</th>\n",
       "      <td>124.539894</td>\n",
       "      <td>127.878397</td>\n",
       "      <td>122.997542</td>\n",
       "      <td>125.965096</td>\n",
       "      <td>225702700</td>\n",
       "      <td>0.0</td>\n",
       "      <td>4.0</td>\n",
       "      <td>121.833450</td>\n",
       "      <td>187630000.0</td>\n",
       "      <td>101.378487</td>\n",
       "      <td>78.724798</td>\n",
       "      <td>78.435356</td>\n",
       "      <td>6.878490</td>\n",
       "      <td>3.239039</td>\n",
       "      <td>2029967900</td>\n",
       "    </tr>\n",
       "    <tr>\n",
       "      <th>2020-09-01 04:00:00+00:00</th>\n",
       "      <td>129.596429</td>\n",
       "      <td>131.587826</td>\n",
       "      <td>127.419572</td>\n",
       "      <td>130.982590</td>\n",
       "      <td>151948100</td>\n",
       "      <td>0.0</td>\n",
       "      <td>0.0</td>\n",
       "      <td>125.965096</td>\n",
       "      <td>225702700.0</td>\n",
       "      <td>102.249699</td>\n",
       "      <td>79.061430</td>\n",
       "      <td>82.042859</td>\n",
       "      <td>7.319690</td>\n",
       "      <td>3.409303</td>\n",
       "      <td>2181916000</td>\n",
       "    </tr>\n",
       "  </tbody>\n",
       "</table>\n",
       "</div>"
      ]
     },
     "execution_count": 3,
     "metadata": {},
     "output_type": "execute_result"
    }
   ],
   "execution_count": 3
  },
  {
   "metadata": {
    "ExecuteTime": {
     "end_time": "2024-11-10T22:17:27.901750Z",
     "start_time": "2024-11-10T22:17:27.899056Z"
    }
   },
   "cell_type": "code",
   "source": [
    "# Align 'Close' price with features\n",
    "df['Close'] = df['Close'].shift(-1) \n",
    "\n",
    "# Drop NaN values\n",
    "df.dropna(inplace=True)"
   ],
   "id": "588820c99d4d08c8",
   "outputs": [],
   "execution_count": 4
  },
  {
   "metadata": {
    "ExecuteTime": {
     "end_time": "2024-11-10T22:17:27.905387Z",
     "start_time": "2024-11-10T22:17:27.903004Z"
    }
   },
   "cell_type": "code",
   "source": [
    "# Define features and target\n",
    "X = df[['Close Lag', 'Volume Lag', '50-Day SMA', '200-Day SMA', 'RSI', 'MACD', 'ATR', 'OBV']]\n",
    "y = df[['Close']]"
   ],
   "id": "53bc220ec1fa5646",
   "outputs": [],
   "execution_count": 5
  },
  {
   "metadata": {
    "ExecuteTime": {
     "end_time": "2024-11-10T22:17:27.908755Z",
     "start_time": "2024-11-10T22:17:27.905973Z"
    }
   },
   "cell_type": "code",
   "source": [
    "# Train-test split\n",
    "X_train, X_test, y_train, y_test = train_test_split(X, y, test_size=0.2, shuffle=False)"
   ],
   "id": "4311bd4f5657fc5b",
   "outputs": [],
   "execution_count": 6
  },
  {
   "metadata": {
    "ExecuteTime": {
     "end_time": "2024-11-10T22:17:27.914185Z",
     "start_time": "2024-11-10T22:17:27.909445Z"
    }
   },
   "cell_type": "code",
   "source": [
    "# Scale data\n",
    "scaler_X = MinMaxScaler()\n",
    "X_train_scaled = scaler_X.fit_transform(X_train)\n",
    "X_test_scaled = scaler_X.transform(X_test)\n",
    "\n",
    "scaler_y = MinMaxScaler()\n",
    "y_train_scaled = scaler_y.fit_transform(y_train)\n",
    "y_test_scaled = scaler_y.transform(y_test)"
   ],
   "id": "42a0dd3b366a21db",
   "outputs": [],
   "execution_count": 7
  },
  {
   "metadata": {
    "ExecuteTime": {
     "end_time": "2024-11-10T22:17:27.918280Z",
     "start_time": "2024-11-10T22:17:27.915087Z"
    }
   },
   "cell_type": "code",
   "source": [
    "# Define time steps\n",
    "time_steps = 60\n",
    "\n",
    "def create_sequences(X, y, time_steps):\n",
    "    X_seq = np.array([X[i - time_steps:i] for i in range(time_steps, len(X))])\n",
    "    y_seq = np.array(y[time_steps:])\n",
    "    \n",
    "    return X_seq, y_seq\n",
    "\n",
    "X_train_seq, y_train_seq = create_sequences(X_train_scaled, y_train_scaled, time_steps)\n",
    "X_test_seq, y_test_seq = create_sequences(X_test_scaled, y_test_scaled, time_steps)"
   ],
   "id": "4c8cfbc80059551b",
   "outputs": [],
   "execution_count": 8
  },
  {
   "metadata": {
    "ExecuteTime": {
     "end_time": "2024-11-10T22:17:28.020895Z",
     "start_time": "2024-11-10T22:17:27.997649Z"
    }
   },
   "cell_type": "code",
   "source": [
    "# Build LSTM model\n",
    "model = Sequential()\n",
    "model.add(Input(shape=(60, X_train_seq.shape[2])))\n",
    "model.add(LSTM(units=50, return_sequences=True))\n",
    "model.add(Dropout(0.2))\n",
    "model.add(LSTM(units=50))\n",
    "model.add(Dropout(0.2))\n",
    "model.add(Dense(1))\n",
    "    \n",
    "# Compile model\n",
    "model.compile(optimizer='adam', loss='mean_squared_error')"
   ],
   "id": "a491f8a33f710d5e",
   "outputs": [],
   "execution_count": 10
  },
  {
   "metadata": {
    "ExecuteTime": {
     "end_time": "2024-11-10T22:18:06.471535Z",
     "start_time": "2024-11-10T22:17:43.092788Z"
    }
   },
   "cell_type": "code",
   "source": [
    "history = model.fit(\n",
    "        X_train_seq,\n",
    "        y_train_seq,\n",
    "        batch_size=32,\n",
    "        epochs=50,\n",
    "        validation_split=0.2,\n",
    "    )"
   ],
   "id": "28f6b2975bf9ac5e",
   "outputs": [
    {
     "name": "stdout",
     "output_type": "stream",
     "text": [
      "Epoch 1/50\n",
      "\u001B[1m20/20\u001B[0m \u001B[32m━━━━━━━━━━━━━━━━━━━━\u001B[0m\u001B[37m\u001B[0m \u001B[1m2s\u001B[0m 26ms/step - loss: 0.0917 - val_loss: 0.0782\n",
      "Epoch 2/50\n",
      "\u001B[1m20/20\u001B[0m \u001B[32m━━━━━━━━━━━━━━━━━━━━\u001B[0m\u001B[37m\u001B[0m \u001B[1m0s\u001B[0m 19ms/step - loss: 0.0162 - val_loss: 0.0095\n",
      "Epoch 3/50\n",
      "\u001B[1m20/20\u001B[0m \u001B[32m━━━━━━━━━━━━━━━━━━━━\u001B[0m\u001B[37m\u001B[0m \u001B[1m0s\u001B[0m 19ms/step - loss: 0.0080 - val_loss: 0.0043\n",
      "Epoch 4/50\n",
      "\u001B[1m20/20\u001B[0m \u001B[32m━━━━━━━━━━━━━━━━━━━━\u001B[0m\u001B[37m\u001B[0m \u001B[1m0s\u001B[0m 19ms/step - loss: 0.0073 - val_loss: 0.0034\n",
      "Epoch 5/50\n",
      "\u001B[1m20/20\u001B[0m \u001B[32m━━━━━━━━━━━━━━━━━━━━\u001B[0m\u001B[37m\u001B[0m \u001B[1m0s\u001B[0m 20ms/step - loss: 0.0066 - val_loss: 0.0036\n",
      "Epoch 6/50\n",
      "\u001B[1m20/20\u001B[0m \u001B[32m━━━━━━━━━━━━━━━━━━━━\u001B[0m\u001B[37m\u001B[0m \u001B[1m0s\u001B[0m 20ms/step - loss: 0.0066 - val_loss: 0.0038\n",
      "Epoch 7/50\n",
      "\u001B[1m20/20\u001B[0m \u001B[32m━━━━━━━━━━━━━━━━━━━━\u001B[0m\u001B[37m\u001B[0m \u001B[1m0s\u001B[0m 20ms/step - loss: 0.0060 - val_loss: 0.0032\n",
      "Epoch 8/50\n",
      "\u001B[1m20/20\u001B[0m \u001B[32m━━━━━━━━━━━━━━━━━━━━\u001B[0m\u001B[37m\u001B[0m \u001B[1m0s\u001B[0m 21ms/step - loss: 0.0056 - val_loss: 0.0031\n",
      "Epoch 9/50\n",
      "\u001B[1m20/20\u001B[0m \u001B[32m━━━━━━━━━━━━━━━━━━━━\u001B[0m\u001B[37m\u001B[0m \u001B[1m0s\u001B[0m 21ms/step - loss: 0.0056 - val_loss: 0.0038\n",
      "Epoch 10/50\n",
      "\u001B[1m20/20\u001B[0m \u001B[32m━━━━━━━━━━━━━━━━━━━━\u001B[0m\u001B[37m\u001B[0m \u001B[1m0s\u001B[0m 21ms/step - loss: 0.0047 - val_loss: 0.0042\n",
      "Epoch 11/50\n",
      "\u001B[1m20/20\u001B[0m \u001B[32m━━━━━━━━━━━━━━━━━━━━\u001B[0m\u001B[37m\u001B[0m \u001B[1m0s\u001B[0m 22ms/step - loss: 0.0045 - val_loss: 0.0033\n",
      "Epoch 12/50\n",
      "\u001B[1m20/20\u001B[0m \u001B[32m━━━━━━━━━━━━━━━━━━━━\u001B[0m\u001B[37m\u001B[0m \u001B[1m0s\u001B[0m 24ms/step - loss: 0.0054 - val_loss: 0.0029\n",
      "Epoch 13/50\n",
      "\u001B[1m20/20\u001B[0m \u001B[32m━━━━━━━━━━━━━━━━━━━━\u001B[0m\u001B[37m\u001B[0m \u001B[1m1s\u001B[0m 28ms/step - loss: 0.0059 - val_loss: 0.0039\n",
      "Epoch 14/50\n",
      "\u001B[1m20/20\u001B[0m \u001B[32m━━━━━━━━━━━━━━━━━━━━\u001B[0m\u001B[37m\u001B[0m \u001B[1m0s\u001B[0m 23ms/step - loss: 0.0052 - val_loss: 0.0053\n",
      "Epoch 15/50\n",
      "\u001B[1m20/20\u001B[0m \u001B[32m━━━━━━━━━━━━━━━━━━━━\u001B[0m\u001B[37m\u001B[0m \u001B[1m0s\u001B[0m 21ms/step - loss: 0.0044 - val_loss: 0.0040\n",
      "Epoch 16/50\n",
      "\u001B[1m20/20\u001B[0m \u001B[32m━━━━━━━━━━━━━━━━━━━━\u001B[0m\u001B[37m\u001B[0m \u001B[1m0s\u001B[0m 21ms/step - loss: 0.0048 - val_loss: 0.0035\n",
      "Epoch 17/50\n",
      "\u001B[1m20/20\u001B[0m \u001B[32m━━━━━━━━━━━━━━━━━━━━\u001B[0m\u001B[37m\u001B[0m \u001B[1m0s\u001B[0m 21ms/step - loss: 0.0040 - val_loss: 0.0027\n",
      "Epoch 18/50\n",
      "\u001B[1m20/20\u001B[0m \u001B[32m━━━━━━━━━━━━━━━━━━━━\u001B[0m\u001B[37m\u001B[0m \u001B[1m0s\u001B[0m 22ms/step - loss: 0.0050 - val_loss: 0.0088\n",
      "Epoch 19/50\n",
      "\u001B[1m20/20\u001B[0m \u001B[32m━━━━━━━━━━━━━━━━━━━━\u001B[0m\u001B[37m\u001B[0m \u001B[1m0s\u001B[0m 21ms/step - loss: 0.0049 - val_loss: 0.0065\n",
      "Epoch 20/50\n",
      "\u001B[1m20/20\u001B[0m \u001B[32m━━━━━━━━━━━━━━━━━━━━\u001B[0m\u001B[37m\u001B[0m \u001B[1m0s\u001B[0m 21ms/step - loss: 0.0054 - val_loss: 0.0055\n",
      "Epoch 21/50\n",
      "\u001B[1m20/20\u001B[0m \u001B[32m━━━━━━━━━━━━━━━━━━━━\u001B[0m\u001B[37m\u001B[0m \u001B[1m0s\u001B[0m 22ms/step - loss: 0.0041 - val_loss: 0.0028\n",
      "Epoch 22/50\n",
      "\u001B[1m20/20\u001B[0m \u001B[32m━━━━━━━━━━━━━━━━━━━━\u001B[0m\u001B[37m\u001B[0m \u001B[1m0s\u001B[0m 22ms/step - loss: 0.0043 - val_loss: 0.0041\n",
      "Epoch 23/50\n",
      "\u001B[1m20/20\u001B[0m \u001B[32m━━━━━━━━━━━━━━━━━━━━\u001B[0m\u001B[37m\u001B[0m \u001B[1m0s\u001B[0m 22ms/step - loss: 0.0047 - val_loss: 0.0034\n",
      "Epoch 24/50\n",
      "\u001B[1m20/20\u001B[0m \u001B[32m━━━━━━━━━━━━━━━━━━━━\u001B[0m\u001B[37m\u001B[0m \u001B[1m0s\u001B[0m 21ms/step - loss: 0.0042 - val_loss: 0.0027\n",
      "Epoch 25/50\n",
      "\u001B[1m20/20\u001B[0m \u001B[32m━━━━━━━━━━━━━━━━━━━━\u001B[0m\u001B[37m\u001B[0m \u001B[1m0s\u001B[0m 21ms/step - loss: 0.0046 - val_loss: 0.0040\n",
      "Epoch 26/50\n",
      "\u001B[1m20/20\u001B[0m \u001B[32m━━━━━━━━━━━━━━━━━━━━\u001B[0m\u001B[37m\u001B[0m \u001B[1m0s\u001B[0m 21ms/step - loss: 0.0043 - val_loss: 0.0025\n",
      "Epoch 27/50\n",
      "\u001B[1m20/20\u001B[0m \u001B[32m━━━━━━━━━━━━━━━━━━━━\u001B[0m\u001B[37m\u001B[0m \u001B[1m0s\u001B[0m 22ms/step - loss: 0.0044 - val_loss: 0.0025\n",
      "Epoch 28/50\n",
      "\u001B[1m20/20\u001B[0m \u001B[32m━━━━━━━━━━━━━━━━━━━━\u001B[0m\u001B[37m\u001B[0m \u001B[1m0s\u001B[0m 24ms/step - loss: 0.0038 - val_loss: 0.0041\n",
      "Epoch 29/50\n",
      "\u001B[1m20/20\u001B[0m \u001B[32m━━━━━━━━━━━━━━━━━━━━\u001B[0m\u001B[37m\u001B[0m \u001B[1m1s\u001B[0m 27ms/step - loss: 0.0039 - val_loss: 0.0051\n",
      "Epoch 30/50\n",
      "\u001B[1m20/20\u001B[0m \u001B[32m━━━━━━━━━━━━━━━━━━━━\u001B[0m\u001B[37m\u001B[0m \u001B[1m0s\u001B[0m 24ms/step - loss: 0.0042 - val_loss: 0.0034\n",
      "Epoch 31/50\n",
      "\u001B[1m20/20\u001B[0m \u001B[32m━━━━━━━━━━━━━━━━━━━━\u001B[0m\u001B[37m\u001B[0m \u001B[1m0s\u001B[0m 22ms/step - loss: 0.0040 - val_loss: 0.0036\n",
      "Epoch 32/50\n",
      "\u001B[1m20/20\u001B[0m \u001B[32m━━━━━━━━━━━━━━━━━━━━\u001B[0m\u001B[37m\u001B[0m \u001B[1m0s\u001B[0m 21ms/step - loss: 0.0039 - val_loss: 0.0031\n",
      "Epoch 33/50\n",
      "\u001B[1m20/20\u001B[0m \u001B[32m━━━━━━━━━━━━━━━━━━━━\u001B[0m\u001B[37m\u001B[0m \u001B[1m0s\u001B[0m 21ms/step - loss: 0.0042 - val_loss: 0.0022\n",
      "Epoch 34/50\n",
      "\u001B[1m20/20\u001B[0m \u001B[32m━━━━━━━━━━━━━━━━━━━━\u001B[0m\u001B[37m\u001B[0m \u001B[1m0s\u001B[0m 22ms/step - loss: 0.0040 - val_loss: 0.0052\n",
      "Epoch 35/50\n",
      "\u001B[1m20/20\u001B[0m \u001B[32m━━━━━━━━━━━━━━━━━━━━\u001B[0m\u001B[37m\u001B[0m \u001B[1m0s\u001B[0m 22ms/step - loss: 0.0040 - val_loss: 0.0035\n",
      "Epoch 36/50\n",
      "\u001B[1m20/20\u001B[0m \u001B[32m━━━━━━━━━━━━━━━━━━━━\u001B[0m\u001B[37m\u001B[0m \u001B[1m0s\u001B[0m 21ms/step - loss: 0.0041 - val_loss: 0.0024\n",
      "Epoch 37/50\n",
      "\u001B[1m20/20\u001B[0m \u001B[32m━━━━━━━━━━━━━━━━━━━━\u001B[0m\u001B[37m\u001B[0m \u001B[1m0s\u001B[0m 22ms/step - loss: 0.0036 - val_loss: 0.0020\n",
      "Epoch 38/50\n",
      "\u001B[1m20/20\u001B[0m \u001B[32m━━━━━━━━━━━━━━━━━━━━\u001B[0m\u001B[37m\u001B[0m \u001B[1m0s\u001B[0m 21ms/step - loss: 0.0037 - val_loss: 0.0032\n",
      "Epoch 39/50\n",
      "\u001B[1m20/20\u001B[0m \u001B[32m━━━━━━━━━━━━━━━━━━━━\u001B[0m\u001B[37m\u001B[0m \u001B[1m0s\u001B[0m 22ms/step - loss: 0.0038 - val_loss: 0.0054\n",
      "Epoch 40/50\n",
      "\u001B[1m20/20\u001B[0m \u001B[32m━━━━━━━━━━━━━━━━━━━━\u001B[0m\u001B[37m\u001B[0m \u001B[1m0s\u001B[0m 22ms/step - loss: 0.0040 - val_loss: 0.0028\n",
      "Epoch 41/50\n",
      "\u001B[1m20/20\u001B[0m \u001B[32m━━━━━━━━━━━━━━━━━━━━\u001B[0m\u001B[37m\u001B[0m \u001B[1m0s\u001B[0m 22ms/step - loss: 0.0039 - val_loss: 0.0055\n",
      "Epoch 42/50\n",
      "\u001B[1m20/20\u001B[0m \u001B[32m━━━━━━━━━━━━━━━━━━━━\u001B[0m\u001B[37m\u001B[0m \u001B[1m0s\u001B[0m 22ms/step - loss: 0.0037 - val_loss: 0.0047\n",
      "Epoch 43/50\n",
      "\u001B[1m20/20\u001B[0m \u001B[32m━━━━━━━━━━━━━━━━━━━━\u001B[0m\u001B[37m\u001B[0m \u001B[1m0s\u001B[0m 21ms/step - loss: 0.0038 - val_loss: 0.0025\n",
      "Epoch 44/50\n",
      "\u001B[1m20/20\u001B[0m \u001B[32m━━━━━━━━━━━━━━━━━━━━\u001B[0m\u001B[37m\u001B[0m \u001B[1m0s\u001B[0m 21ms/step - loss: 0.0035 - val_loss: 0.0045\n",
      "Epoch 45/50\n",
      "\u001B[1m20/20\u001B[0m \u001B[32m━━━━━━━━━━━━━━━━━━━━\u001B[0m\u001B[37m\u001B[0m \u001B[1m0s\u001B[0m 23ms/step - loss: 0.0039 - val_loss: 0.0032\n",
      "Epoch 46/50\n",
      "\u001B[1m20/20\u001B[0m \u001B[32m━━━━━━━━━━━━━━━━━━━━\u001B[0m\u001B[37m\u001B[0m \u001B[1m0s\u001B[0m 24ms/step - loss: 0.0039 - val_loss: 0.0021\n",
      "Epoch 47/50\n",
      "\u001B[1m20/20\u001B[0m \u001B[32m━━━━━━━━━━━━━━━━━━━━\u001B[0m\u001B[37m\u001B[0m \u001B[1m0s\u001B[0m 24ms/step - loss: 0.0039 - val_loss: 0.0027\n",
      "Epoch 48/50\n",
      "\u001B[1m20/20\u001B[0m \u001B[32m━━━━━━━━━━━━━━━━━━━━\u001B[0m\u001B[37m\u001B[0m \u001B[1m0s\u001B[0m 21ms/step - loss: 0.0039 - val_loss: 0.0022\n",
      "Epoch 49/50\n",
      "\u001B[1m20/20\u001B[0m \u001B[32m━━━━━━━━━━━━━━━━━━━━\u001B[0m\u001B[37m\u001B[0m \u001B[1m0s\u001B[0m 21ms/step - loss: 0.0037 - val_loss: 0.0046\n",
      "Epoch 50/50\n",
      "\u001B[1m20/20\u001B[0m \u001B[32m━━━━━━━━━━━━━━━━━━━━\u001B[0m\u001B[37m\u001B[0m \u001B[1m0s\u001B[0m 21ms/step - loss: 0.0036 - val_loss: 0.0043\n"
     ]
    }
   ],
   "execution_count": 11
  },
  {
   "metadata": {
    "ExecuteTime": {
     "end_time": "2024-11-10T22:18:09.922173Z",
     "start_time": "2024-11-10T22:18:09.667769Z"
    }
   },
   "cell_type": "code",
   "source": [
    "predictions = scaler_y.inverse_transform(model.predict(X_test_seq))\n",
    "y_actual = scaler_y.inverse_transform(y_test_seq)\n",
    "\n",
    "mse = mean_squared_error(y_actual, predictions)\n",
    "rmse = root_mean_squared_error(y_actual, predictions)\n",
    "mae = mean_absolute_error(y_actual, predictions)\n",
    "mape = mean_absolute_percentage_error(y_actual, predictions)\n",
    "    \n",
    "print(f'Mean Squared Error (MSE): {mse}')\n",
    "print(f'Root Mean Squared Error (RMSE): {rmse}')\n",
    "print(f'Mean Absolute Error (MAE): {mae}')\n",
    "print(f'Mean Absolute Percentage Error (MAPE): {mape}')"
   ],
   "id": "7377f23bbeedff21",
   "outputs": [
    {
     "name": "stdout",
     "output_type": "stream",
     "text": [
      "\u001B[1m5/5\u001B[0m \u001B[32m━━━━━━━━━━━━━━━━━━━━\u001B[0m\u001B[37m\u001B[0m \u001B[1m0s\u001B[0m 27ms/step\n",
      "Mean Squared Error (MSE): 271.34380764425214\n",
      "Root Mean Squared Error (RMSE): 16.472516736802916\n",
      "Mean Absolute Error (MAE): 15.022051259091025\n",
      "Mean Absolute Percentage Error (MAPE): 0.06955749255907161\n"
     ]
    }
   ],
   "execution_count": 12
  },
  {
   "metadata": {
    "ExecuteTime": {
     "end_time": "2024-11-10T22:18:17.361610Z",
     "start_time": "2024-11-10T22:18:16.728101Z"
    }
   },
   "cell_type": "code",
   "source": [
    "plt.figure(figsize=(10, 8))\n",
    "plt.plot(predictions, label='Predicted')\n",
    "plt.plot(y_actual, label='Actual')\n",
    "plt.title('Actual vs. Predicted Values')\n",
    "plt.ylabel('Price')\n",
    "plt.xlabel('Date')\n",
    "plt.legend()\n",
    "plt.show()"
   ],
   "id": "9fc84687dd40ebef",
   "outputs": [
    {
     "data": {
      "text/plain": [
       "<Figure size 1000x800 with 1 Axes>"
      ],
      "image/png": "[encoded data removed]"
     },
     "metadata": {},
     "output_type": "display_data"
    }
   ],
   "execution_count": 13
  },
  {
   "metadata": {},
   "cell_type": "code",
   "source": [
    "def get_latest_sequence(scaled_data, time_steps=60):\n",
    "    latest_sequence = scaled_data[-time_steps:]\n",
    "    return latest_sequence.reshape((1, time_steps, scaled_data.shape[1]))\n",
    "\n",
    "def predict_tomorrow_price(model, scaler_X, scaler_y, data, time_steps=60):\n",
    "    latest_features = data[['Close Lag', 'Volume Lag', '50-Day SMA', '200-Day SMA', 'RSI', 'MACD', 'ATR', 'OBV']]\n",
    "    latest_features_scaled = scaler_X.transform(latest_features)\n",
    "    input_sequence = get_latest_sequence(X_test_scaled, time_steps)\n",
    "    predicted_scaled = model.predict(input_sequence)\n",
    "    predicted_price = scaler_y.inverse_transform(predicted_scaled)\n",
    "    return predicted_price[0][0]\n",
    "\n",
    "latest_data = df.tail(1)\n",
    "\n",
    "tomorrow_price = predict_tomorrow_price(model, scaler_X, scaler_y, latest_data, time_steps)\n",
    "print(f\"Predicted Tomorrow's Close Price: {tomorrow_price:.2f}\")"
   ],
   "id": "84b29b2ac482a62c",
   "outputs": [],
   "execution_count": null
  }
 ],
 "metadata": {
  "kernelspec": {
   "display_name": "Python 3",
   "language": "python",
   "name": "python3"
  },
  "language_info": {
   "codemirror_mode": {
    "name": "ipython",
    "version": 2
   },
   "file_extension": ".py",
   "mimetype": "text/x-python",
   "name": "python",
   "nbconvert_exporter": "python",
   "pygments_lexer": "ipython2",
   "version": "2.7.6"
  }
 },
 "nbformat": 4,
 "nbformat_minor": 5
}
